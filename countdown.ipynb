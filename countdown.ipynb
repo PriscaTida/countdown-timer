{
 "cells": [
  {
   "cell_type": "code",
   "execution_count": 3,
   "id": "6645ec4b",
   "metadata": {},
   "outputs": [
    {
     "name": "stdout",
     "output_type": "stream",
     "text": [
      "The length of the countdown in seconds : 4\n",
      "Fire in the hole\n"
     ]
    }
   ],
   "source": [
    "import time\n",
    "\n",
    "def function(t):\n",
    "    while t>0:\n",
    "        minutes, seconds = divmod(t,60)\n",
    "        times = '{:02d}:{:02d}'.format(minutes, seconds)\n",
    "        print(times, end=\"\\r\")\n",
    "        time.sleep(1) \n",
    "        t -= 1        \n",
    "    print(\"Fire in the hole\")\n",
    "    \n",
    "t=int(input(\"The length of the countdown in seconds : \"))\n",
    "function(t)"
   ]
  },
  {
   "cell_type": "code",
   "execution_count": null,
   "id": "105113d7",
   "metadata": {},
   "outputs": [],
   "source": []
  },
  {
   "cell_type": "code",
   "execution_count": null,
   "id": "6d464513",
   "metadata": {},
   "outputs": [],
   "source": []
  },
  {
   "cell_type": "code",
   "execution_count": null,
   "id": "4ea0261f",
   "metadata": {},
   "outputs": [],
   "source": []
  }
 ],
 "metadata": {
  "kernelspec": {
   "display_name": "Python 3 (ipykernel)",
   "language": "python",
   "name": "python3"
  },
  "language_info": {
   "codemirror_mode": {
    "name": "ipython",
    "version": 3
   },
   "file_extension": ".py",
   "mimetype": "text/x-python",
   "name": "python",
   "nbconvert_exporter": "python",
   "pygments_lexer": "ipython3",
   "version": "3.9.12"
  }
 },
 "nbformat": 4,
 "nbformat_minor": 5
}
